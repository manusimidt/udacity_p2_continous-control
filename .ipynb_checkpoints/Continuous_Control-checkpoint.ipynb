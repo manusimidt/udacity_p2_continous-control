{
 "cells": [
  {
   "cell_type": "markdown",
   "metadata": {},
   "source": [
    "# Continuous Control\n",
    "\n",
    "---\n",
    "\n",
    "In this notebook, you will learn how to use the Unity ML-Agents environment for the second project of the [Deep Reinforcement Learning Nanodegree](https://www.udacity.com/course/deep-reinforcement-learning-nanodegree--nd893) program.\n",
    "\n",
    "### 1. Start the Environment\n",
    "\n",
    "We begin by importing the necessary packages.  If the code cell below returns an error, please revisit the project instructions to double-check that you have installed [Unity ML-Agents](https://github.com/Unity-Technologies/ml-agents/blob/master/docs/Installation.md) and [NumPy](http://www.numpy.org/)."
   ]
  },
  {
   "cell_type": "code",
   "execution_count": 1,
   "metadata": {},
   "outputs": [],
   "source": [
    "from unityagents import UnityEnvironment\n",
    "import numpy as np"
   ]
  },
  {
   "cell_type": "markdown",
   "metadata": {},
   "source": [
    "Next, we will start the environment!"
   ]
  },
  {
   "cell_type": "code",
   "execution_count": 2,
   "metadata": {},
   "outputs": [
    {
     "name": "stderr",
     "output_type": "stream",
     "text": [
      "INFO:unityagents:\n",
      "'Academy' started successfully!\n",
      "Unity Academy name: Academy\n",
      "        Number of Brains: 1\n",
      "        Number of External Brains : 1\n",
      "        Lesson number : 0\n",
      "        Reset Parameters :\n",
      "\t\tgoal_speed -> 1.0\n",
      "\t\tgoal_size -> 5.0\n",
      "Unity brain name: ReacherBrain\n",
      "        Number of Visual Observations (per agent): 0\n",
      "        Vector Observation space type: continuous\n",
      "        Vector Observation space size (per agent): 33\n",
      "        Number of stacked Vector Observation: 1\n",
      "        Vector Action space type: continuous\n",
      "        Vector Action space size (per agent): 4\n",
      "        Vector Action descriptions: , , , \n"
     ]
    }
   ],
   "source": [
    "env = UnityEnvironment(file_name='Reacher_Windows_x86_64/Reacher.exe')"
   ]
  },
  {
   "cell_type": "markdown",
   "metadata": {},
   "source": [
    "Environments contain **_brains_** which are responsible for deciding the actions of their associated agents. Here we check for the first brain available, and set it as the default brain we will be controlling from Python."
   ]
  },
  {
   "cell_type": "code",
   "execution_count": 3,
   "metadata": {},
   "outputs": [],
   "source": [
    "# get the default brain\n",
    "brain_name = env.brain_names[0]\n",
    "brain = env.brains[brain_name]"
   ]
  },
  {
   "cell_type": "markdown",
   "metadata": {},
   "source": [
    "### 2. Examine the State and Action Spaces\n",
    "\n",
    "In this environment, a double-jointed arm can move to target locations. A reward of `+0.1` is provided for each step that the agent's hand is in the goal location. Thus, the goal of your agent is to maintain its position at the target location for as many time steps as possible.\n",
    "The observation space consists of `33` variables corresponding to position, rotation, velocity, and angular velocities of the arm.  Each action is a vector with four numbers, corresponding to torque applicable to two joints.  Every entry in the action vector must be a number between `-1` and `1`.\n",
    "Run the code cell below to print some information about the environment."
   ]
  },
  {
   "cell_type": "code",
   "execution_count": 4,
   "metadata": {},
   "outputs": [
    {
     "name": "stdout",
     "output_type": "stream",
     "text": [
      "Number of agents: 1\n",
      "Size of each action: 4\n",
      "There are 1 agents. Each observes a state with length: 33\n",
      "The state for the first agent looks like: [ 0.00000000e+00 -4.00000000e+00  0.00000000e+00  1.00000000e+00\n",
      " -0.00000000e+00 -0.00000000e+00 -4.37113883e-08  0.00000000e+00\n",
      "  0.00000000e+00  0.00000000e+00  0.00000000e+00  0.00000000e+00\n",
      "  0.00000000e+00  0.00000000e+00 -1.00000000e+01  0.00000000e+00\n",
      "  1.00000000e+00 -0.00000000e+00 -0.00000000e+00 -4.37113883e-08\n",
      "  0.00000000e+00  0.00000000e+00  0.00000000e+00  0.00000000e+00\n",
      "  0.00000000e+00  0.00000000e+00  5.75471878e+00 -1.00000000e+00\n",
      "  5.55726671e+00  0.00000000e+00  1.00000000e+00  0.00000000e+00\n",
      " -1.68164849e-01]\n"
     ]
    }
   ],
   "source": [
    "# reset the environment\n",
    "env_info = env.reset(train_mode=True)[brain_name]\n",
    "\n",
    "# number of agents\n",
    "num_agents = len(env_info.agents)\n",
    "print('Number of agents:', num_agents)\n",
    "\n",
    "# size of each action\n",
    "action_size = brain.vector_action_space_size\n",
    "print('Size of each action:', action_size)\n",
    "\n",
    "# examine the state space \n",
    "states = env_info.vector_observations\n",
    "state_size = states.shape[1]\n",
    "print('There are {} agents. Each observes a state with length: {}'.format(states.shape[0], state_size))\n",
    "print('The state for the first agent looks like:', states[0])\n"
   ]
  },
  {
   "cell_type": "markdown",
   "metadata": {},
   "source": [
    "When finished, you can close the environment."
   ]
  },
  {
   "cell_type": "markdown",
   "metadata": {},
   "source": [
    "### 4. It's Your Turn!\n",
    "\n",
    "Now it's your turn to train your own agent to solve the environment!  When training the environment, set `train_mode=True`, so that the line for resetting the environment looks like the following:"
   ]
  },
  {
   "cell_type": "code",
   "execution_count": 5,
   "metadata": {},
   "outputs": [],
   "source": [
    "# imports \n",
    "import torch\n",
    "from collections import deque\n",
    "import pandas as pd\n",
    "import matplotlib.pyplot as plt\n",
    "%matplotlib inline\n",
    "\n",
    "from Agent import Agent"
   ]
  },
  {
   "cell_type": "markdown",
   "metadata": {},
   "source": [
    "### Define Agent"
   ]
  },
  {
   "cell_type": "code",
   "execution_count": 6,
   "metadata": {
    "pycharm": {
     "name": "#%%\n"
    }
   },
   "outputs": [
    {
     "name": "stdout",
     "output_type": "stream",
     "text": [
      "ActorNetwork(\n",
      "  (fc1): Linear(in_features=33, out_features=128, bias=True)\n",
      "  (fc2): Linear(in_features=128, out_features=128, bias=True)\n",
      "  (fc3): Linear(in_features=128, out_features=4, bias=True)\n",
      ")\n",
      "CriticNetwork(\n",
      "  (fc1): Linear(in_features=33, out_features=128, bias=True)\n",
      "  (fc2): Linear(in_features=132, out_features=128, bias=True)\n",
      "  (fc3): Linear(in_features=128, out_features=1, bias=True)\n",
      ")\n"
     ]
    }
   ],
   "source": [
    "agent = Agent(state_size, action_size,\n",
    "              gamma=0.99, lr_actor=0.0002, lr_critic=0.0003, tau=0.002, weight_decay=0.0001,\n",
    "              buffer_size=1000000, batch_size=128)"
   ]
  },
  {
   "cell_type": "markdown",
   "metadata": {
    "pycharm": {
     "name": "#%% md\n"
    }
   },
   "source": [
    "### Training\n",
    "define a function that trains the DDPG agent"
   ]
  },
  {
   "cell_type": "code",
   "execution_count": null,
   "metadata": {},
   "outputs": [
    {
     "name": "stdout",
     "output_type": "stream",
     "text": [
      "Episode 10: Average Score: 0.77\n"
     ]
    }
   ],
   "source": [
    "def train_agent(env: UnityEnvironment, brain_name: str, agent: Agent, n_episodes: int, max_steps: int = 1500) -> []:\n",
    "    \"\"\"\n",
    "    Trans the agent for n episodes\n",
    "    :param env:\n",
    "    :param brain_name:\n",
    "    :param agent:\n",
    "    :param n_episodes: number of episodes to train\n",
    "    :param max_steps: max amount of steps\n",
    "    :return: returns an array containing the score of every episode\n",
    "    \"\"\"\n",
    "    scores: [int] = []\n",
    "    # store the last 100 scores into a queue to check if the agent reached the goal\n",
    "    scores_window = deque(maxlen=100)\n",
    "\n",
    "    for i_episode in range(1, n_episodes + 1):\n",
    "        # reset the environment\n",
    "        env_info = env.reset(train_mode=True)[brain_name]\n",
    "        agent.reset()\n",
    "        state = env_info.vector_observations[0]\n",
    "        score = 0\n",
    "\n",
    "        # the environment will end the episode after n steps, thus no manual termination of the episode is needed\n",
    "        for a in range(max_steps):\n",
    "            action: int = agent.act(state, add_noise=False)\n",
    "            env_info = env.step(action)[brain_name]\n",
    "            next_state = env_info.vector_observations[0]\n",
    "            reward = env_info.rewards[0]\n",
    "            done = env_info.local_done[0]\n",
    "            score += reward\n",
    "\n",
    "            agent.step((state, action, reward, next_state, done))\n",
    "\n",
    "            state = next_state\n",
    "            if done:\n",
    "                break\n",
    "\n",
    "        scores_window.append(score)  # save most recent score\n",
    "        scores.append(score)  # save most recent score\n",
    "\n",
    "        # print('\\rEpisode {}\\tavg Score: {:.2f}'.format(i_episode, np.mean(scores_window)), end=\"\")\n",
    "        if i_episode % 10 == 0:\n",
    "            print(f\"\"\"Episode {i_episode}: Average Score: {np.mean(scores_window):.2f}\"\"\")\n",
    "\n",
    "        if np.mean(scores_window) >= 30.0:\n",
    "            print('\\nEnvironment solved in {:d} episodes!\\tAverage Score: {:.2f}'.format(i_episode,\n",
    "                                                                                         np.mean(scores_window)))\n",
    "            torch.save(agent.actor_local.state_dict(), 'checkpoint-actor.pth')\n",
    "            torch.save(agent.critic_local.state_dict(), 'checkpoint-critic.pth')\n",
    "            break\n",
    "    return scores\n",
    "\n",
    "\n",
    "scores = train_agent(env, brain_name, agent, n_episodes=500, max_steps=1500)"
   ]
  },
  {
   "cell_type": "markdown",
   "metadata": {},
   "source": [
    "### Plot the scores"
   ]
  },
  {
   "cell_type": "code",
   "execution_count": null,
   "metadata": {
    "pycharm": {
     "name": "#%%\n"
    }
   },
   "outputs": [],
   "source": [
    "def plot_scores(scores: [int], sma_window: int = 50) -> None:\n",
    "    \"\"\"\n",
    "    Plots a line plot of the scores.\n",
    "    The function expects the score of the first episode at scores[0] and the last episode at scores[-1]\n",
    "    :param scores:\n",
    "    :param sma_window: Simple Moving Average rolling window\n",
    "    :return:\n",
    "    \"\"\"\n",
    "    # calculate moving average of the scores\n",
    "    series: pd.Series = pd.Series(scores)\n",
    "    window = series.rolling(window=sma_window)\n",
    "    scores_sma: pd.Series = window.mean()\n",
    "\n",
    "    # plot the scores\n",
    "    fig = plt.figure(figsize=(12, 5))\n",
    "\n",
    "    plot1 = fig.add_subplot(121)\n",
    "    plot1.plot(np.arange(len(scores)), scores)\n",
    "    plot1.set_ylabel('Score')\n",
    "    plot1.set_xlabel('Episode #')\n",
    "    plot1.set_title(\"Raw scores\")\n",
    "\n",
    "    plot2 = fig.add_subplot(122)\n",
    "    plot2.plot(np.arange(len(scores_sma)), scores_sma)\n",
    "    plot2.set_ylabel('Score')\n",
    "    plot2.set_xlabel('Episode #')\n",
    "    plot2.set_title(f\"Moving Average(window={sma_window})\")\n",
    "\n",
    "    plt.show()\n",
    "\n",
    "\n",
    "plot_scores(scores=scores, sma_window=10)"
   ]
  },
  {
   "cell_type": "markdown",
   "metadata": {},
   "source": [
    "### Watch the trained agent\n",
    "define a function that shows a trained agent"
   ]
  },
  {
   "cell_type": "code",
   "execution_count": null,
   "metadata": {
    "pycharm": {
     "is_executing": true,
     "name": "#%%\n"
    }
   },
   "outputs": [],
   "source": [
    "\n",
    "def watch_agent_from_pth_file(env: UnityEnvironment, brain_name: str, agent: Agent, file_path_actor: str,\n",
    "                              file_path_critic: str) -> None:\n",
    "    agent.actor_local.load_state_dict(torch.load(file_path_actor))\n",
    "    agent.critic_local.load_state_dict(torch.load(file_path_critic))\n",
    "    agent.actor_local.eval()\n",
    "    agent.critic_local.eval()\n",
    "    watch_agent(env, brain_name, agent)\n",
    "\n",
    "\n",
    "def watch_agent(env: UnityEnvironment, brain_name: str, agent: Agent) -> None:\n",
    "    \"\"\"\n",
    "    Shows agent simulation\n",
    "    :param env:\n",
    "    :param brain_name:\n",
    "    :param agent:\n",
    "    :return:\n",
    "    \"\"\"\n",
    "    env_info = env.reset(train_mode=False)[brain_name]  # reset the environment\n",
    "    state = env_info.vector_observations[0]  # get the current state\n",
    "    score = 0  # initialize the score\n",
    "\n",
    "    while True:\n",
    "        action = agent.act(state)\n",
    "        env_info = env.step(action)[brain_name]  # send the action to the environment\n",
    "        next_state = env_info.vector_observations[0]  # get the next state\n",
    "        reward = env_info.rewards[0]  # get the reward\n",
    "        done = env_info.local_done[0]  # see if episode has finished\n",
    "        score += reward  # update the score\n",
    "        state = next_state  # roll over the state to next time step\n",
    "        if done:  # exit loop if episode finished\n",
    "            break\n",
    "    print(f\"Agent achieved a score of {score}\")\n",
    "\n",
    "\n",
    "# we could also just call the watch_agent function here, because we already have the trained agent object instance\n",
    "# but for demonstration purpourses i will load the weights of the neural networks of the agent from the pth file\n",
    "watch_agent_from_pth_file(env, brain_name, agent, './checkpoint-actor.pth', './checkpoint-critic.pth')\n",
    "\n"
   ]
  },
  {
   "cell_type": "code",
   "execution_count": null,
   "metadata": {
    "pycharm": {
     "is_executing": true
    }
   },
   "outputs": [],
   "source": [
    "env.close()"
   ]
  },
  {
   "cell_type": "code",
   "execution_count": null,
   "metadata": {
    "pycharm": {
     "is_executing": true
    }
   },
   "outputs": [],
   "source": []
  }
 ],
 "metadata": {
  "kernelspec": {
   "display_name": "Python 3",
   "language": "python",
   "name": "python3"
  },
  "language_info": {
   "codemirror_mode": {
    "name": "ipython",
    "version": 3
   },
   "file_extension": ".py",
   "mimetype": "text/x-python",
   "name": "python",
   "nbconvert_exporter": "python",
   "pygments_lexer": "ipython3",
   "version": "3.6.13"
  }
 },
 "nbformat": 4,
 "nbformat_minor": 2
}
